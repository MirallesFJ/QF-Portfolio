{
 "cells": [
  {
   "cell_type": "markdown",
   "id": "41f27ea8",
   "metadata": {},
   "source": [
    "### The Parable of the Bookmaker"
   ]
  },
  {
   "cell_type": "markdown",
   "id": "7fa2f78b",
   "metadata": {},
   "source": [
    "- **Setup**: A bookmaker analyzes a two-horse race.\n",
    "  - Horse A: 25% chance of winning  \n",
    "  - Horse B: 75% chance of winning  \n",
    "  - Sets fair odds: 3:1 against A, 3:1 on B\n",
    "\n",
    "- **Bets Placed**:\n",
    "  - $5,000 on Horse A  \n",
    "  - $10,000 on Horse B\n",
    "\n",
    "- **Outcomes**:\n",
    "  - If A wins: **Loss of $5,000**  \n",
    "  - If B wins: **Profit of $1,667**  \n",
    "  - **Expected profit**:  \n",
    "\n",
    "    $$ 0.25 \\times (-\\$5,000) + 0.75 \\times (+\\$1,667) = \\$0 $$\n",
    "\n",
    "- **Problem**:\n",
    "  - Fair odds → zero expected profit in the long run  \n",
    "  - Still exposes the bookmaker to **short-term risk**\n",
    "\n",
    "- **Alternative Strategy**:\n",
    "  - Instead of using true probabilities, the bookmaker sets odds based on **betting volumes** (i.e., supply and demand).\n",
    "    - $5,000 on A vs. $10,000 on B → implies odds of **2:1 against A** and **2:1 on B**\n",
    "  - Now, regardless of the outcome:\n",
    "    - **If A wins**: pay out $10,000, receive $10,000 → **no profit/loss**\n",
    "    - **If B wins**: pay out $5,000, receive $5,000 → **no profit/loss**\n",
    "  - Result: a **perfect hedge** — the bookmaker is fully neutral to the outcome\n",
    "\n",
    "\n",
    "- **Conclusion**:\n",
    "  - Pricing based on expected values (true probabilities) introduces risk  \n",
    "  - **Pricing based on hedging** (market flows) removes risk  \n",
    "  - Bookmaker becomes **fully hedged**, indifferent to outcome"
   ]
  },
  {
   "cell_type": "markdown",
   "id": "2d9e96a2",
   "metadata": {},
   "source": [
    "### Calculation with true probabilities"
   ]
  },
  {
   "cell_type": "code",
   "execution_count": 21,
   "id": "ab9b617c",
   "metadata": {},
   "outputs": [
    {
     "name": "stdout",
     "output_type": "stream",
     "text": [
      "Profit if Horse A wins: $-5,000\n",
      "Profit if Horse B wins: $1,667\n",
      "Expected profit: $0\n"
     ]
    }
   ],
   "source": [
    "# True Probabilities\n",
    "true_probs = {'Horse A': 0.25, 'Horse B': 0.75}\n",
    "\n",
    "# Fair Odds Calculation\n",
    "fair_odds = {\n",
    "    'Horse A': (1 / true_probs['Horse A']) - 1,  # 3.0\n",
    "    'Horse B': (1 / true_probs['Horse B']) - 1   # ~0.33\n",
    "}\n",
    "\n",
    "# Bets Placed\n",
    "bets = {'Horse A': 5000, 'Horse B': 10000}\n",
    "\n",
    "# Total amount collected\n",
    "total_bets = sum(bets.values())\n",
    "\n",
    "# Profit if Horse A Wins\n",
    "total_payout_if_A_wins = bets['Horse A'] * (1 + fair_odds['Horse A'])  # include stake\n",
    "profit_if_A_wins = total_bets - total_payout_if_A_wins\n",
    "print(f\"Profit if Horse A wins: ${profit_if_A_wins:,.0f}\")\n",
    "\n",
    "# Profit if Horse B Wins\n",
    "total_payout_if_B_wins = bets['Horse B'] * (1 + fair_odds['Horse B'])  # include stake\n",
    "profit_if_B_wins = total_bets - total_payout_if_B_wins\n",
    "print(f\"Profit if Horse B wins: ${profit_if_B_wins:,.0f}\")\n",
    "\n",
    "# Expected value of profit - only true in the long run\n",
    "expected_profit = (true_probs['Horse A'] * profit_if_A_wins) + (true_probs['Horse B'] * profit_if_B_wins)\n",
    "print(f\"Expected profit: ${expected_profit:,.0f}\")"
   ]
  },
  {
   "cell_type": "markdown",
   "id": "a0b76a03",
   "metadata": {},
   "source": [
    "### Calculation with implied(hedged) probabilities"
   ]
  },
  {
   "cell_type": "code",
   "execution_count": null,
   "id": "df5fef7c",
   "metadata": {},
   "outputs": [
    {
     "name": "stdout",
     "output_type": "stream",
     "text": [
      "Profit if Horse A wins (hedged): $0\n",
      "Profit if Horse B wins (hedged): $0\n",
      "Expected profit under true probabilities (hedged odds): $0\n"
     ]
    }
   ],
   "source": [
    "# True Probabilities\n",
    "true_probs = {'Horse A': 0.25, 'Horse B': 0.75}\n",
    "\n",
    "# Bets Placed\n",
    "bets = {'Horse A': 5000, 'Horse B': 10000}\n",
    "total_bets = sum(bets.values())\n",
    "\n",
    "# Hedged Probabilities (based on money wagered)\n",
    "# ------------------------------------------------\n",
    "# This calculates the implied probability of each horse winning,\n",
    "# based on how much money is bet on each one (not their real chance of winning).\n",
    "# For example, if 1/3 of total money is bet on Horse A, its implied probability is 1/3.\n",
    "hedged_probs = {\n",
    "    h: bets[h] / total_bets   # implied_prob = money_on_horse / total_money_bet\n",
    "    for h in bets\n",
    "}\n",
    "\n",
    "# Hedging Odds Calculation (from implied probabilities)\n",
    "# ------------------------------------------------------\n",
    "# Converts each implied probability into betting odds using the formula:\n",
    "#     odds = (1 / probability) - 1\n",
    "# These odds ensure that no matter who wins, the bookmaker pays out \n",
    "# just enough to match the total bets taken — achieving a perfect hedge.\n",
    "hedged_odds = {\n",
    "    h: (1 / hedged_probs[h]) - 1   # decimal odds = (1 / prob) - 1\n",
    "    for h in hedged_probs\n",
    "}\n",
    "\n",
    "# Profit if Horse A Wins (hedged)\n",
    "total_payout_if_A_wins_hedged = bets['Horse A'] * (1 + hedged_odds['Horse A'])  # include stake\n",
    "profit_if_A_wins_hedged = total_bets - total_payout_if_A_wins_hedged\n",
    "print(f\"Profit if Horse A wins (hedged): ${profit_if_A_wins_hedged:,.0f}\")\n",
    "\n",
    "# Profit if Horse B Wins (hedged)\n",
    "total_payout_if_B_wins_hedged = bets['Horse B'] * (1 + hedged_odds['Horse B'])  # include stake\n",
    "profit_if_B_wins_hedged = total_bets - total_payout_if_B_wins_hedged\n",
    "print(f\"Profit if Horse B wins (hedged): ${profit_if_B_wins_hedged:,.0f}\")\n",
    "\n",
    "# Expected profit under true probabilities, using hedged odds\n",
    "expected_profit_hedged = (\n",
    "    true_probs['Horse A'] * profit_if_A_wins_hedged +\n",
    "    true_probs['Horse B'] * profit_if_B_wins_hedged\n",
    ")\n",
    "print(f\"Expected profit under true probabilities (hedged odds): ${expected_profit_hedged:,.0f}\")\n"
   ]
  },
  {
   "cell_type": "code",
   "execution_count": 25,
   "id": "824f4da8",
   "metadata": {},
   "outputs": [
    {
     "data": {
      "image/png": "[encoded data removed]",
      "text/plain": [
       "<Figure size 640x480 with 1 Axes>"
      ]
     },
     "metadata": {},
     "output_type": "display_data"
    }
   ],
   "source": [
    "import matplotlib.pyplot as plt\n",
    "\n",
    "labels = ['Horse A Wins', 'Horse B Wins']\n",
    "fair_profits = [profit_if_A_wins, profit_if_B_wins]\n",
    "hedged_profits = [profit_if_A_wins_hedged, profit_if_B_wins_hedged]\n",
    "\n",
    "x = range(len(labels))\n",
    "width = 0.35\n",
    "\n",
    "plt.bar(x, fair_profits, width, label='Fair Odds', color='skyblue')\n",
    "plt.bar([i + width for i in x], hedged_profits, width, label='Hedged Odds', color='lightgreen')\n",
    "\n",
    "plt.xticks([i + width / 2 for i in x], labels)\n",
    "plt.ylabel(\"Profit ($)\")\n",
    "plt.title(\"Bookmaker Profit Comparison\")\n",
    "plt.axhline(0, color='gray', linestyle='--')\n",
    "plt.legend()\n",
    "plt.tight_layout()\n",
    "plt.show()"
   ]
  }
 ],
 "metadata": {
  "kernelspec": {
   "display_name": "qf",
   "language": "python",
   "name": "python3"
  },
  "language_info": {
   "codemirror_mode": {
    "name": "ipython",
    "version": 3
   },
   "file_extension": ".py",
   "mimetype": "text/x-python",
   "name": "python",
   "nbconvert_exporter": "python",
   "pygments_lexer": "ipython3",
   "version": "3.13.1"
  }
 },
 "nbformat": 4,
 "nbformat_minor": 5
}
